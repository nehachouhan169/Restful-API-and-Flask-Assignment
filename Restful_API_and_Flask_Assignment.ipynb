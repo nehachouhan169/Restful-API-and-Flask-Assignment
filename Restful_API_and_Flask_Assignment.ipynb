{
  "nbformat": 4,
  "nbformat_minor": 0,
  "metadata": {
    "colab": {
      "provenance": []
    },
    "kernelspec": {
      "name": "python3",
      "display_name": "Python 3"
    },
    "language_info": {
      "name": "python"
    }
  },
  "cells": [
    {
      "cell_type": "markdown",
      "source": [
        "### 1) What is a RESTful API?\n",
        "### > A RESTful API is an Application Programming Interface (API) that follows the principles of REST (Representational State Transfer), a set of architectural constraints for designing networked applications.It allows different software systems to communicate with each other over the web using HTTP methods in a simple, stateless, and standardized way."
      ],
      "metadata": {
        "id": "-7tM6N1ju-u8"
      }
    },
    {
      "cell_type": "markdown",
      "source": [
        "### 2) Explain the concept of API specification?\n",
        "### > An API specification is a detailed document or blueprint that defines how an API should behave, how clients can interact with it, and what inputs/outputs are expected.It acts as a contract between the API provider (server) and the API consumer (client), ensuring both sides understand how to communicate without ambiguity."
      ],
      "metadata": {
        "id": "aPWj33RDvVvQ"
      }
    },
    {
      "cell_type": "markdown",
      "source": [
        "### 3) What is Flask, and why is it popular for building APIs?\n",
        "### > Flask is a lightweight web framework for Python.It is called a \"microframework\" because it provides the basic tools to build web applications and APIs without imposing too many rules or heavy dependencies.Its popular for its:\n",
        "  - Simplicity & Minimalism\n",
        "  - Flexibility\n",
        "  - Lightweight & Fast\n",
        "  - Good for Prototyping & Microservices"
      ],
      "metadata": {
        "id": "Uv5xUXCiv7ms"
      }
    },
    {
      "cell_type": "markdown",
      "source": [
        "### 4) What is routing in Flask?\n",
        "### > Flask, routing is the process of mapping URLs (web addresses) to functions in our code.When a user visits a URL (like /hello), Flask decides which function should handle the request.These functions are called view functions or route handlers.We define routes using the @app.route() decorator.*italicized text*"
      ],
      "metadata": {
        "id": "itQ6xCzMwmaU"
      }
    },
    {
      "cell_type": "markdown",
      "source": [
        "### 5) How do you create a simple Flask application?\n",
        "### > To create a simple Flask application step by step:-\n",
        "- Install Flask\n",
        "- Create your flask App File\n",
        "- Run the flask app"
      ],
      "metadata": {
        "id": "gX90SAS0w5Yy"
      }
    },
    {
      "cell_type": "markdown",
      "source": [
        "### 6) What are HTTP methods used in RESTful APIs?\n",
        "### > In a RESTful API, different HTTP methods used are:\n",
        "  - GET\n",
        "  - POST\n",
        "  - PUT\n",
        "  - PATCH\n",
        "  - DELETE\n"
      ],
      "metadata": {
        "id": "Oyh_SbMwxXpN"
      }
    },
    {
      "cell_type": "markdown",
      "source": [
        "### 7) What is the purpose of the @app.route() decorator in Flask?\n",
        "### > Purpose of @app.route() in Flask is:\n",
        "- In Flask, the @app.route() decorator is used to bind a URL (route) to a - Python function.\n",
        "- It tells Flask: “When a user visits this URL, run this function and return its response.”\n",
        "- The function it decorates is called a view function (or route handler).\n"
      ],
      "metadata": {
        "id": "P3MF6DT3xkbu"
      }
    },
    {
      "cell_type": "markdown",
      "source": [
        "### 8) What is the difference between GET and POST HTTP methods?\n",
        "##### > **GET** - Used to retrieve data from the server.Sends data via the URL.Data is visible in the URL is less secure, not suitable for sensitive info like passwords.\n",
        "##### > **POST** - Used to send data to the server, usually to create or update a resource.Sends data in the request body.Data is hidden in the body safer for sensitive info, though encryption like HTTPS is still needed."
      ],
      "metadata": {
        "id": "_PFLIKsVx4QQ"
      }
    },
    {
      "cell_type": "markdown",
      "source": [
        "### 9) How do you handle errors in Flask APIs?\n",
        "#### > Ways to Handle Errors in Flask APIs:\n",
        "- Using abort()\n",
        "- Custom Error Handlers\n",
        "- Using try/except Inside Routes\n",
        "- Custom Exception Classes"
      ],
      "metadata": {
        "id": "uHH8-gQCyHxa"
      }
    },
    {
      "cell_type": "markdown",
      "source": [
        "### 10) How do you connect Flask to a SQL database?\n",
        "### > Ways to Connect Flask to SQL Databases:\n",
        "- Using Flask-SQLAlchemy\n",
        "- Using a Direct Database Driver\n",
        "- Using Flask-Migrate"
      ],
      "metadata": {
        "id": "qcKFlYx_yxUz"
      }
    },
    {
      "cell_type": "markdown",
      "source": [
        "### 11) What is the role of Flask-SQLAlchemy?\n",
        "### > Flask-SQLAlchemy is a Flask extension that integrates SQLAlchemy a powerful Python ORM(Object Relational Mapper) with flask.It makes it easier to work with databases (SQLite, MySQL, PostgreSQL, etc.) inside flask apps.Handles connecting Flask to SQL databases."
      ],
      "metadata": {
        "id": "Rav-nYmizPPq"
      }
    },
    {
      "cell_type": "markdown",
      "source": [
        "### 12) What are Flask blueprints, and how are they useful?\n",
        "### > A Blueprint in Flask is a way to organize your application into smaller, reusable components.They are useful in following ways\n",
        "- Modularity - Break a large app into smaller, manageable modules.\n",
        "- Reusability - You can reuse blueprints across projects (like an authentication module).\n",
        "- Maintainability - Keeps your code clean and organized, especially for large REST APIs.\n",
        "- Collaboration - Multiple developers can work on different blueprints without conflicts."
      ],
      "metadata": {
        "id": "Qwx56k9VzalU"
      }
    },
    {
      "cell_type": "markdown",
      "source": [
        "### 13) What is the purpose of Flask's request object?\n",
        "### > Flask, the request object is a global object (imported from flask) that represents the incoming HTTP request made by the client (browser, mobile app, or API consumer).It gives you access to:\n",
        "- Request data (query parameters, form data, JSON body, headers, cookies, etc.)\n",
        "- Request metadata (method, URL, IP address, etc.)"
      ],
      "metadata": {
        "id": "KDJKAODTzlIL"
      }
    },
    {
      "cell_type": "markdown",
      "source": [
        "### 14) How do you create a RESTful API endpoint using Flask?\n",
        "###\n",
        "- Defining a route (@app.route('/users', methods=['GET', 'POST', ...]))\n",
        "- Handling request data with request\n",
        "- Returning responses in JSON with appropriate HTTP status codes."
      ],
      "metadata": {
        "id": "21vVgNsq0Ad8"
      }
    },
    {
      "cell_type": "markdown",
      "source": [
        "### 15) What is the purpose of Flask's jsonify() function?\n",
        "### > Purpose of jsonify():\n",
        "- Converts Python data - JSON\n",
        "- Handles Special Characters & Unicode Safely\n",
        "- Adds Correct Status Codes\n",
        "- Makes APIs Consistent"
      ],
      "metadata": {
        "id": "8xakmea30lwe"
      }
    },
    {
      "cell_type": "markdown",
      "source": [
        "### 16) Explain Flask's url_for() function?\n",
        "### >  url_for() is a Flask helper function that generates URLs dynamically for your application.Instead of hardcoding URLs (\"/profile/123\"), we reference the function name of the route, and Flask builds the correct URL for us."
      ],
      "metadata": {
        "id": "ogF8YZma0t3R"
      }
    },
    {
      "cell_type": "markdown",
      "source": [
        "### 17) How does Flask handle static files (CSS, JavaScript, etc.)?\n",
        "### > Flask Handles Static Files (CSS, JS, Images, etc.) in the following ways:\n",
        "- Default static/ Folder\n",
        "- Accessing Static Files\n",
        "- Using in Templates (url_for)\n",
        "- Custom Static Folder"
      ],
      "metadata": {
        "id": "-MzrYRgu08QZ"
      }
    },
    {
      "cell_type": "markdown",
      "source": [
        "### 18) What is an API specification, and how does it help in building a Flask API?\n",
        "### > An API specification is a detailed blueprint that describes how an API should work.It defines:\n",
        "- Endpoints (URLs) - e.g., /users, /products/\n",
        "- HTTP Methods - GET, POST, PUT, DELETE\n",
        "- Request format - query params, headers, request body (JSON, XML, etc.)\n",
        "- Response format - JSON structure, status codes\n",
        "- Error handling - what errors look like (400, 404, 500, etc.)"
      ],
      "metadata": {
        "id": "QIL8pmrB1Uf-"
      }
    },
    {
      "cell_type": "markdown",
      "source": [
        "### 19) What are HTTP status codes, and why are they important in a Flask API?\n",
        "### > HTTP status codes are 3-digit numbers returned by a web server (like your Flask app) in response to a client's request.They indicate whether the request is successful, failed, or needs further action.They are Important because:\n",
        "- Communicate Outcome Clearly\n",
        "- Improve Client-Side Handling\n",
        "- Follow REST Best Practices"
      ],
      "metadata": {
        "id": "YabAc0Eu1_vP"
      }
    },
    {
      "cell_type": "markdown",
      "source": [
        "### 20) How do you handle POST requests in Flask?\n",
        "### > Handling POST in Flask:\n",
        "- Simple POST Route\n",
        "- Sending a POST Request\n",
        "- Handling Form Data\n"
      ],
      "metadata": {
        "id": "-UV3Nr-H2vGP"
      }
    },
    {
      "cell_type": "markdown",
      "source": [
        "### 21)  How would you secure a Flask API?\n",
        "### > Security is one of the most important parts of building a Flask API.\n",
        "- Use HTTPS\n",
        "- Authentication & Authorization\n",
        "- Input Validation & Sanitization\n",
        "- Protect Against SQL Injection\n",
        "- Use Rate Limiting\n",
        "- Secure Error Handling\n"
      ],
      "metadata": {
        "id": "Hi-S4jcT3QOT"
      }
    },
    {
      "cell_type": "markdown",
      "source": [
        "### 22) What is the significance of the Flask-RESTful extension?\n",
        "### > Flask-RESTful is an extension for Flask that helps you build RESTful APIs more easily and cleanly.Its significance is:\n",
        "- Class-based Resources\n",
        "- Easy Routing with Api\n",
        "- Built-in Request Parsing\n",
        "- Better Error Handling\n",
        "- Scalability"
      ],
      "metadata": {
        "id": "NVfPxcy_3z1d"
      }
    },
    {
      "cell_type": "markdown",
      "source": [
        "### 23) What is the role of Flask’s session object?\n",
        "### > The session object in Flask is used to store information about a user across multiple requests.It works like a temporary storage (dictionary-like object) that persists between requests from the same client."
      ],
      "metadata": {
        "id": "kQbFSGIg4QnY"
      }
    },
    {
      "cell_type": "markdown",
      "source": [
        "# Practical"
      ],
      "metadata": {
        "id": "65Ty-X6F42X6"
      }
    },
    {
      "cell_type": "code",
      "source": [
        " 1) How do you create a basic Flask application?\n",
        "\n",
        "from flask import Flask\n",
        "\n",
        "app = Flask(__name__)\n",
        "\n",
        "@app.route('/')\n",
        "def hello_world():\n",
        "    return 'Hello World!!'\n",
        "\n",
        "if __name__ == '__main__':\n",
        "    app.run(debug = True)\n",
        "\n",
        "\n",
        "\n"
      ],
      "metadata": {
        "colab": {
          "base_uri": "https://localhost:8080/"
        },
        "id": "ioNON8PG47LX",
        "outputId": "a8f411b9-b543-4ec4-8c71-186e0f87e256"
      },
      "execution_count": null,
      "outputs": [
        {
          "metadata": {
            "tags": null
          },
          "name": "stdout",
          "output_type": "stream",
          "text": [
            " * Serving Flask app '__main__'\n",
            " * Debug mode: on\n"
          ]
        },
        {
          "metadata": {
            "tags": null
          },
          "name": "stderr",
          "output_type": "stream",
          "text": [
            "INFO:werkzeug:\u001b[31m\u001b[1mWARNING: This is a development server. Do not use it in a production deployment. Use a production WSGI server instead.\u001b[0m\n",
            " * Running on http://127.0.0.1:5000\n",
            "INFO:werkzeug:\u001b[33mPress CTRL+C to quit\u001b[0m\n",
            "INFO:werkzeug: * Restarting with watchdog (inotify)\n"
          ]
        }
      ]
    },
    {
      "cell_type": "code",
      "source": [
        "2). How do you serve static files like images or CSS in Flask?\n",
        "\n",
        "import os\n",
        "\n",
        "os.makedirs('static', exist_ok=True)\n",
        "\n",
        "with open('static/style.css', 'w') as f:\n",
        "    f.write('body {background-color: lightblue;}')\n",
        "\n",
        "from flask import Flask, url_for\n",
        "\n",
        "app = Flask(__name__)\n",
        "\n",
        "@app.route('/')\n",
        "def home():\n",
        "    return '''\n",
        "    <html>\n",
        "    <head>\n",
        "        <link rel=\"stylesheet\" href=\"{}\">\n",
        "    </head>\n",
        "    <body>\n",
        "        <h1>Hello, styled Flask!</h1>\n",
        "    </body>\n",
        "    </html>\n",
        "    '''.format(url_for('static', filename='style.css'))\n",
        "\n",
        "if __name__ == '__main__':\n",
        "    app.run()\n",
        "\n"
      ],
      "metadata": {
        "id": "-PrqP3Wk5Ui-"
      },
      "execution_count": null,
      "outputs": []
    },
    {
      "cell_type": "code",
      "source": [
        "3) How do you define different routes with different HTTP methods in Flask?\n",
        "from flask import Flask, request\n",
        "\n",
        "app = Flask(__name__)\n",
        "\n",
        "@app.route('/')\n",
        "def home():\n",
        "    return \"This is a GET request\"\n",
        "\n",
        "@app.route('/submit', methods=['POST'])\n",
        "def submit():\n",
        "    data = request.form.get('data')\n",
        "    return f\"Received POST data: {data}\"\n",
        "\n",
        "\n",
        "@app.route('/both', methods=['GET', 'POST'])\n",
        "def both_methods():\n",
        "    if request.method == 'POST':\n",
        "        return \"POST request received\"\n",
        "    else:\n",
        "        return \"GET request received\"\n",
        "\n",
        "if __name__ == '__main__':\n",
        "    app.run(debug=True)\n",
        "\n"
      ],
      "metadata": {
        "id": "vQK1jBwr6-SV"
      },
      "execution_count": null,
      "outputs": []
    },
    {
      "cell_type": "code",
      "source": [
        "4)  How do you render HTML templates in Flask?\n",
        "from flask import Flask, render_template\n",
        "\n",
        "app = Flask(__name__)\n",
        "\n",
        "@app.route('/')\n",
        "def home():\n",
        "    return render_template('index.html')\n",
        "\n",
        "if __name__ == '__main__':\n",
        "    app.run(debug=True)\n",
        "\n",
        "\n",
        "<!DOCTYPE html>\n",
        "<html>\n",
        "<head>\n",
        "    <title>Flask Template</title>\n",
        "</head>\n",
        "<body>\n",
        "    <h1>Hello from Flask template!</h1>\n",
        "</body>\n",
        "</html>"
      ],
      "metadata": {
        "id": "Fa_yP4vt7ZIT"
      },
      "execution_count": null,
      "outputs": []
    },
    {
      "cell_type": "code",
      "source": [
        "5) How can you generate URLs for routes in Flask using url_for?\n",
        "from flask import Flask, url_for\n",
        "\n",
        "app = Flask(__name__)\n",
        "\n",
        "@app.route('/')\n",
        "def home():\n",
        "    return \"Home Page\"\n",
        "\n",
        "@app.route('/user/<username>')\n",
        "def profile(username):\n",
        "    return f\"User: {username}\"\n",
        "\n",
        "@app.route('/links')\n",
        "def links():\n",
        "\n",
        "    home_url = url_for('home')\n",
        "    profile_url = url_for('profile', username='alice')\n",
        "    return f'Home URL: {home_url} <br> Profile URL: {profile_url}'\n",
        "\n",
        "if __name__ == '__main__':\n",
        "    app.run(debug=True)\n",
        "\n"
      ],
      "metadata": {
        "id": "4e8VKR0Q8Mxw"
      },
      "execution_count": null,
      "outputs": []
    },
    {
      "cell_type": "code",
      "source": [
        "6) How do you handle forms in Flask?\n",
        "from flask import Flask, render_template, request\n",
        "\n",
        "app = Flask(__name__)\n",
        "\n",
        "@app.route('/form', methods=['GET', 'POST'])\n",
        "def form():\n",
        "    if request.method == 'POST':\n",
        "        name = request.form['name']\n",
        "        email = request.form['email']\n",
        "        return f\"Received: Name={name}, Email={email}\"\n",
        "    return render_template('form.html')\n",
        "\n",
        "if __name__ == '__main__':\n",
        "    app.run(debug=True)\n"
      ],
      "metadata": {
        "id": "lr4hpgmw8yBE"
      },
      "execution_count": null,
      "outputs": []
    },
    {
      "cell_type": "code",
      "source": [
        "7)  How can you validate form data in Flask?\n",
        "\n",
        "from flask import Flask, request, render_template\n",
        "\n",
        "app = Flask(__name__)\n",
        "\n",
        "@app.route('/form', methods=['GET', 'POST'])\n",
        "def form():\n",
        "    error = None\n",
        "    if request.method == 'POST':\n",
        "        name = request.form.get('name')\n",
        "        email = request.form.get('email')\n",
        "\n",
        "        if not name or not email:\n",
        "            error = \"Both name and email are required!\"\n",
        "        else:\n",
        "            return f\"Form submitted: Name = {name}, Email = {email}\"\n",
        "\n",
        "    return render_template('form.html', error=error)\n"
      ],
      "metadata": {
        "id": "RzstnS2w9Bff"
      },
      "execution_count": null,
      "outputs": []
    },
    {
      "cell_type": "code",
      "source": [
        "8) How do you manage sessions in Flask?\n",
        "from flask import Flask, session, redirect, url_for, request\n",
        "\n",
        "app = Flask(__name__)\n",
        "app.secret_key = 'your_secret_key'\n",
        "@app.route('/')\n",
        "def index():\n",
        "    if 'username' in session:\n",
        "        return f'Logged in as {session[\"username\"]}'\n",
        "    return 'You are not logged in.'\n",
        "\n",
        "@app.route('/login', methods=['GET', 'POST'])\n",
        "def login():\n",
        "    if request.method == 'POST':\n",
        "        session['username'] = request.form['username']\n",
        "        return redirect(url_for('index'))\n",
        "    return '''\n",
        "        <form method=\"post\">\n",
        "            <input type=\"text\" name=\"username\">\n",
        "            <input type=\"submit\" value=\"Login\">\n",
        "        </form>\n",
        "    '''\n",
        "\n",
        "@app.route('/logout')\n",
        "def logout():\n",
        "    session.pop('username', None)\n",
        "    return redirect(url_for('index'))\n",
        "\n",
        "if __name__ == '__main__':\n",
        "    app.run(debug=True)\n"
      ],
      "metadata": {
        "id": "YQyLsL299X0D"
      },
      "execution_count": null,
      "outputs": []
    },
    {
      "cell_type": "code",
      "source": [
        "9) How do you redirect to a different route in Flask?\n",
        "from flask import Flask, redirect, url_for\n",
        "\n",
        "app = Flask(__name__)\n",
        "\n",
        "@app.route('/')\n",
        "def home():\n",
        "    return 'Home Page'\n",
        "\n",
        "@app.route('/login')\n",
        "def login():\n",
        "    return 'Login Page'\n",
        "\n",
        "@app.route('/go-to-login')\n",
        "def go_to_login():\n",
        "    return redirect(url_for('login'))\n",
        "\n",
        "if __name__ == '__main__':\n",
        "    app.run(debug=True)\n"
      ],
      "metadata": {
        "id": "XKFjaamA9mY7"
      },
      "execution_count": null,
      "outputs": []
    },
    {
      "cell_type": "code",
      "source": [
        "10)  How do you handle errors in Flask (e.g., 404)?\n",
        "from flask import Flask, render_template\n",
        "\n",
        "app = Flask(__name__)\n",
        "\n",
        "@app.route('/')\n",
        "def home():\n",
        "    return 'Welcome to the homepage!'\n",
        "@app.errorhandler(404)\n",
        "def page_not_found(e):\n",
        "    return render_template('404.html'), 404\n",
        "\n",
        "if __name__ == '__main__':\n",
        "    app.run(debug=True)\n",
        "<!DOCTYPE html>\n",
        "<html>\n",
        "<head><title>Page Not Found</title></head>\n",
        "<body>\n",
        "    <h1>404 - Page Not Found</h1>\n",
        "    <p>Oops! The page you're looking for doesn't exist.</p>\n",
        "    <a href=\"{{ url_for('home') }}\">Go to Home</a>\n",
        "</body>\n",
        "</html>\n"
      ],
      "metadata": {
        "id": "gSKArSb99ydp"
      },
      "execution_count": null,
      "outputs": []
    },
    {
      "cell_type": "code",
      "source": [
        "11) How do you structure a Flask app using Blueprints?\n",
        "from flask import Blueprint, render_template\n",
        "\n",
        "auth_bp = Blueprint('auth', __name__, url_prefix='/auth')\n",
        "\n",
        "@auth_bp.route('/login')\n",
        "def login():\n",
        "    return render_template('login.html')\n",
        "from flask import Flask\n",
        "from auth.routes import auth_bp\n",
        "\n",
        "app = Flask(__name__)\n",
        "app.secret_key = 'your_secret'\n",
        "\n",
        "app.register_blueprint(auth_bp)\n",
        "\n",
        "@app.route('/')\n",
        "def home():\n",
        "    return \"Home Page\"\n",
        "\n",
        "if __name__ == '__main__':\n",
        "    app.run(debug=True)\n",
        "<!DOCTYPE html>\n",
        "<html>\n",
        "<head><title>Login</title></head>\n",
        "<body>\n",
        "    <h1>Login Page (from auth blueprint)</h1>\n",
        "</body>\n",
        "</html>\n"
      ],
      "metadata": {
        "id": "f4XXYDTA-Dg_"
      },
      "execution_count": null,
      "outputs": []
    },
    {
      "cell_type": "code",
      "source": [
        "12) How do you define a custom Jinja filter in Flask?\n",
        "def reverse_string(s):\n",
        "    return s[::-1]\n",
        "from flask import Flask\n",
        "\n",
        "app = Flask(__name__)\n",
        "\n",
        "@app.template_filter('reverse')\n",
        "def reverse_string(s):\n",
        "    return s[::-1]\n",
        "app.jinja_env.filters['reverse'] = reverse_string"
      ],
      "metadata": {
        "id": "m_TAWE07-T7v"
      },
      "execution_count": null,
      "outputs": []
    },
    {
      "cell_type": "code",
      "source": [
        "13) How can you redirect with query parameters in Flask?\n",
        "from flask import Flask, redirect, url_for, request\n",
        "\n",
        "app = Flask(__name__)\n",
        "\n",
        "@app.route('/')\n",
        "def home():\n",
        "    return redirect(url_for('greet', name='Alice', lang='en'))\n",
        "\n",
        "@app.route('/greet')\n",
        "def greet():\n",
        "    name = request.args.get('name')\n",
        "    lang = request.args.get('lang')\n",
        "    return f\"Hello {name}, language: {lang}\"\n",
        "\n",
        "if __name__ == '__main__':\n",
        "    app.run(debug=True)\n"
      ],
      "metadata": {
        "id": "MotEew3x-i0a"
      },
      "execution_count": null,
      "outputs": []
    },
    {
      "cell_type": "code",
      "source": [
        "14)  How do you return JSON responses in Flask?\n",
        "from flask import Flask, jsonify\n",
        "\n",
        "app = Flask(__name__)\n",
        "\n",
        "@app.route('/api/data')\n",
        "def get_data():\n",
        "    return jsonify({\n",
        "        'name': 'Alice',\n",
        "        'age': 30,\n",
        "        'status': 'active'\n",
        "    })\n",
        "\n",
        "if __name__ == '__main__':\n",
        "    app.run(debug=True)\n"
      ],
      "metadata": {
        "id": "eVPoFZHB-xO2"
      },
      "execution_count": null,
      "outputs": []
    },
    {
      "cell_type": "code",
      "source": [
        "15) How do you capture URL parameters in Flask?\n",
        "from flask import Flask\n",
        "\n",
        "app = Flask(__name__)\n",
        "\n",
        "@app.route('/user/<username>')\n",
        "def show_user(username):\n",
        "    return f'Hello, {username}!'\n"
      ],
      "metadata": {
        "id": "kLjV3AxP-9V3"
      },
      "execution_count": null,
      "outputs": []
    }
  ]
}